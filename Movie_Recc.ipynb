{
  "nbformat": 4,
  "nbformat_minor": 0,
  "metadata": {
    "colab": {
      "provenance": []
    },
    "kernelspec": {
      "name": "python3",
      "display_name": "Python 3"
    },
    "language_info": {
      "name": "python"
    }
  },
  "cells": [
    {
      "cell_type": "code",
      "execution_count": null,
      "metadata": {
        "id": "CrF3b1YzmwiO"
      },
      "outputs": [],
      "source": [
        "import pandas as pd\n",
        "import numpy as np"
      ]
    },
    {
      "cell_type": "code",
      "source": [
        "#pip install -U scikit-learn"
      ],
      "metadata": {
        "id": "XlkG9MiIzt61"
      },
      "execution_count": null,
      "outputs": []
    },
    {
      "cell_type": "code",
      "source": [
        "import sklearn as sk"
      ],
      "metadata": {
        "id": "SBU-19_23qqB"
      },
      "execution_count": null,
      "outputs": []
    },
    {
      "cell_type": "code",
      "source": [
        "#reading the file into a dataframe\n",
        "import io\n",
        "from google.colab import files\n",
        "uploaded = files.upload()\n",
        "credits_df = pd.read_csv(io.BytesIO(uploaded['tmdb_5000_credits.csv']))\n",
        "uploaded = files.upload()\n",
        "movies_df = pd.read_csv(io.BytesIO(uploaded['tmdb_5000_movies.csv']))"
      ],
      "metadata": {
        "colab": {
          "base_uri": "https://localhost:8080/",
          "height": 130
        },
        "id": "Rb9PABMcmtFf",
        "outputId": "1fef9458-8143-4beb-983c-92bfc6373bdc"
      },
      "execution_count": null,
      "outputs": [
        {
          "output_type": "display_data",
          "data": {
            "text/plain": [
              "<IPython.core.display.HTML object>"
            ],
            "text/html": [
              "\n",
              "     <input type=\"file\" id=\"files-8796be58-2f37-4806-85d2-8c58d955476d\" name=\"files[]\" multiple disabled\n",
              "        style=\"border:none\" />\n",
              "     <output id=\"result-8796be58-2f37-4806-85d2-8c58d955476d\">\n",
              "      Upload widget is only available when the cell has been executed in the\n",
              "      current browser session. Please rerun this cell to enable.\n",
              "      </output>\n",
              "      <script>// Copyright 2017 Google LLC\n",
              "//\n",
              "// Licensed under the Apache License, Version 2.0 (the \"License\");\n",
              "// you may not use this file except in compliance with the License.\n",
              "// You may obtain a copy of the License at\n",
              "//\n",
              "//      http://www.apache.org/licenses/LICENSE-2.0\n",
              "//\n",
              "// Unless required by applicable law or agreed to in writing, software\n",
              "// distributed under the License is distributed on an \"AS IS\" BASIS,\n",
              "// WITHOUT WARRANTIES OR CONDITIONS OF ANY KIND, either express or implied.\n",
              "// See the License for the specific language governing permissions and\n",
              "// limitations under the License.\n",
              "\n",
              "/**\n",
              " * @fileoverview Helpers for google.colab Python module.\n",
              " */\n",
              "(function(scope) {\n",
              "function span(text, styleAttributes = {}) {\n",
              "  const element = document.createElement('span');\n",
              "  element.textContent = text;\n",
              "  for (const key of Object.keys(styleAttributes)) {\n",
              "    element.style[key] = styleAttributes[key];\n",
              "  }\n",
              "  return element;\n",
              "}\n",
              "\n",
              "// Max number of bytes which will be uploaded at a time.\n",
              "const MAX_PAYLOAD_SIZE = 100 * 1024;\n",
              "\n",
              "function _uploadFiles(inputId, outputId) {\n",
              "  const steps = uploadFilesStep(inputId, outputId);\n",
              "  const outputElement = document.getElementById(outputId);\n",
              "  // Cache steps on the outputElement to make it available for the next call\n",
              "  // to uploadFilesContinue from Python.\n",
              "  outputElement.steps = steps;\n",
              "\n",
              "  return _uploadFilesContinue(outputId);\n",
              "}\n",
              "\n",
              "// This is roughly an async generator (not supported in the browser yet),\n",
              "// where there are multiple asynchronous steps and the Python side is going\n",
              "// to poll for completion of each step.\n",
              "// This uses a Promise to block the python side on completion of each step,\n",
              "// then passes the result of the previous step as the input to the next step.\n",
              "function _uploadFilesContinue(outputId) {\n",
              "  const outputElement = document.getElementById(outputId);\n",
              "  const steps = outputElement.steps;\n",
              "\n",
              "  const next = steps.next(outputElement.lastPromiseValue);\n",
              "  return Promise.resolve(next.value.promise).then((value) => {\n",
              "    // Cache the last promise value to make it available to the next\n",
              "    // step of the generator.\n",
              "    outputElement.lastPromiseValue = value;\n",
              "    return next.value.response;\n",
              "  });\n",
              "}\n",
              "\n",
              "/**\n",
              " * Generator function which is called between each async step of the upload\n",
              " * process.\n",
              " * @param {string} inputId Element ID of the input file picker element.\n",
              " * @param {string} outputId Element ID of the output display.\n",
              " * @return {!Iterable<!Object>} Iterable of next steps.\n",
              " */\n",
              "function* uploadFilesStep(inputId, outputId) {\n",
              "  const inputElement = document.getElementById(inputId);\n",
              "  inputElement.disabled = false;\n",
              "\n",
              "  const outputElement = document.getElementById(outputId);\n",
              "  outputElement.innerHTML = '';\n",
              "\n",
              "  const pickedPromise = new Promise((resolve) => {\n",
              "    inputElement.addEventListener('change', (e) => {\n",
              "      resolve(e.target.files);\n",
              "    });\n",
              "  });\n",
              "\n",
              "  const cancel = document.createElement('button');\n",
              "  inputElement.parentElement.appendChild(cancel);\n",
              "  cancel.textContent = 'Cancel upload';\n",
              "  const cancelPromise = new Promise((resolve) => {\n",
              "    cancel.onclick = () => {\n",
              "      resolve(null);\n",
              "    };\n",
              "  });\n",
              "\n",
              "  // Wait for the user to pick the files.\n",
              "  const files = yield {\n",
              "    promise: Promise.race([pickedPromise, cancelPromise]),\n",
              "    response: {\n",
              "      action: 'starting',\n",
              "    }\n",
              "  };\n",
              "\n",
              "  cancel.remove();\n",
              "\n",
              "  // Disable the input element since further picks are not allowed.\n",
              "  inputElement.disabled = true;\n",
              "\n",
              "  if (!files) {\n",
              "    return {\n",
              "      response: {\n",
              "        action: 'complete',\n",
              "      }\n",
              "    };\n",
              "  }\n",
              "\n",
              "  for (const file of files) {\n",
              "    const li = document.createElement('li');\n",
              "    li.append(span(file.name, {fontWeight: 'bold'}));\n",
              "    li.append(span(\n",
              "        `(${file.type || 'n/a'}) - ${file.size} bytes, ` +\n",
              "        `last modified: ${\n",
              "            file.lastModifiedDate ? file.lastModifiedDate.toLocaleDateString() :\n",
              "                                    'n/a'} - `));\n",
              "    const percent = span('0% done');\n",
              "    li.appendChild(percent);\n",
              "\n",
              "    outputElement.appendChild(li);\n",
              "\n",
              "    const fileDataPromise = new Promise((resolve) => {\n",
              "      const reader = new FileReader();\n",
              "      reader.onload = (e) => {\n",
              "        resolve(e.target.result);\n",
              "      };\n",
              "      reader.readAsArrayBuffer(file);\n",
              "    });\n",
              "    // Wait for the data to be ready.\n",
              "    let fileData = yield {\n",
              "      promise: fileDataPromise,\n",
              "      response: {\n",
              "        action: 'continue',\n",
              "      }\n",
              "    };\n",
              "\n",
              "    // Use a chunked sending to avoid message size limits. See b/62115660.\n",
              "    let position = 0;\n",
              "    do {\n",
              "      const length = Math.min(fileData.byteLength - position, MAX_PAYLOAD_SIZE);\n",
              "      const chunk = new Uint8Array(fileData, position, length);\n",
              "      position += length;\n",
              "\n",
              "      const base64 = btoa(String.fromCharCode.apply(null, chunk));\n",
              "      yield {\n",
              "        response: {\n",
              "          action: 'append',\n",
              "          file: file.name,\n",
              "          data: base64,\n",
              "        },\n",
              "      };\n",
              "\n",
              "      let percentDone = fileData.byteLength === 0 ?\n",
              "          100 :\n",
              "          Math.round((position / fileData.byteLength) * 100);\n",
              "      percent.textContent = `${percentDone}% done`;\n",
              "\n",
              "    } while (position < fileData.byteLength);\n",
              "  }\n",
              "\n",
              "  // All done.\n",
              "  yield {\n",
              "    response: {\n",
              "      action: 'complete',\n",
              "    }\n",
              "  };\n",
              "}\n",
              "\n",
              "scope.google = scope.google || {};\n",
              "scope.google.colab = scope.google.colab || {};\n",
              "scope.google.colab._files = {\n",
              "  _uploadFiles,\n",
              "  _uploadFilesContinue,\n",
              "};\n",
              "})(self);\n",
              "</script> "
            ]
          },
          "metadata": {}
        },
        {
          "output_type": "stream",
          "name": "stdout",
          "text": [
            "Saving tmdb_5000_credits.csv to tmdb_5000_credits.csv\n"
          ]
        },
        {
          "output_type": "display_data",
          "data": {
            "text/plain": [
              "<IPython.core.display.HTML object>"
            ],
            "text/html": [
              "\n",
              "     <input type=\"file\" id=\"files-949dbcf0-3442-4c9f-bdc6-15e29a4abdb3\" name=\"files[]\" multiple disabled\n",
              "        style=\"border:none\" />\n",
              "     <output id=\"result-949dbcf0-3442-4c9f-bdc6-15e29a4abdb3\">\n",
              "      Upload widget is only available when the cell has been executed in the\n",
              "      current browser session. Please rerun this cell to enable.\n",
              "      </output>\n",
              "      <script>// Copyright 2017 Google LLC\n",
              "//\n",
              "// Licensed under the Apache License, Version 2.0 (the \"License\");\n",
              "// you may not use this file except in compliance with the License.\n",
              "// You may obtain a copy of the License at\n",
              "//\n",
              "//      http://www.apache.org/licenses/LICENSE-2.0\n",
              "//\n",
              "// Unless required by applicable law or agreed to in writing, software\n",
              "// distributed under the License is distributed on an \"AS IS\" BASIS,\n",
              "// WITHOUT WARRANTIES OR CONDITIONS OF ANY KIND, either express or implied.\n",
              "// See the License for the specific language governing permissions and\n",
              "// limitations under the License.\n",
              "\n",
              "/**\n",
              " * @fileoverview Helpers for google.colab Python module.\n",
              " */\n",
              "(function(scope) {\n",
              "function span(text, styleAttributes = {}) {\n",
              "  const element = document.createElement('span');\n",
              "  element.textContent = text;\n",
              "  for (const key of Object.keys(styleAttributes)) {\n",
              "    element.style[key] = styleAttributes[key];\n",
              "  }\n",
              "  return element;\n",
              "}\n",
              "\n",
              "// Max number of bytes which will be uploaded at a time.\n",
              "const MAX_PAYLOAD_SIZE = 100 * 1024;\n",
              "\n",
              "function _uploadFiles(inputId, outputId) {\n",
              "  const steps = uploadFilesStep(inputId, outputId);\n",
              "  const outputElement = document.getElementById(outputId);\n",
              "  // Cache steps on the outputElement to make it available for the next call\n",
              "  // to uploadFilesContinue from Python.\n",
              "  outputElement.steps = steps;\n",
              "\n",
              "  return _uploadFilesContinue(outputId);\n",
              "}\n",
              "\n",
              "// This is roughly an async generator (not supported in the browser yet),\n",
              "// where there are multiple asynchronous steps and the Python side is going\n",
              "// to poll for completion of each step.\n",
              "// This uses a Promise to block the python side on completion of each step,\n",
              "// then passes the result of the previous step as the input to the next step.\n",
              "function _uploadFilesContinue(outputId) {\n",
              "  const outputElement = document.getElementById(outputId);\n",
              "  const steps = outputElement.steps;\n",
              "\n",
              "  const next = steps.next(outputElement.lastPromiseValue);\n",
              "  return Promise.resolve(next.value.promise).then((value) => {\n",
              "    // Cache the last promise value to make it available to the next\n",
              "    // step of the generator.\n",
              "    outputElement.lastPromiseValue = value;\n",
              "    return next.value.response;\n",
              "  });\n",
              "}\n",
              "\n",
              "/**\n",
              " * Generator function which is called between each async step of the upload\n",
              " * process.\n",
              " * @param {string} inputId Element ID of the input file picker element.\n",
              " * @param {string} outputId Element ID of the output display.\n",
              " * @return {!Iterable<!Object>} Iterable of next steps.\n",
              " */\n",
              "function* uploadFilesStep(inputId, outputId) {\n",
              "  const inputElement = document.getElementById(inputId);\n",
              "  inputElement.disabled = false;\n",
              "\n",
              "  const outputElement = document.getElementById(outputId);\n",
              "  outputElement.innerHTML = '';\n",
              "\n",
              "  const pickedPromise = new Promise((resolve) => {\n",
              "    inputElement.addEventListener('change', (e) => {\n",
              "      resolve(e.target.files);\n",
              "    });\n",
              "  });\n",
              "\n",
              "  const cancel = document.createElement('button');\n",
              "  inputElement.parentElement.appendChild(cancel);\n",
              "  cancel.textContent = 'Cancel upload';\n",
              "  const cancelPromise = new Promise((resolve) => {\n",
              "    cancel.onclick = () => {\n",
              "      resolve(null);\n",
              "    };\n",
              "  });\n",
              "\n",
              "  // Wait for the user to pick the files.\n",
              "  const files = yield {\n",
              "    promise: Promise.race([pickedPromise, cancelPromise]),\n",
              "    response: {\n",
              "      action: 'starting',\n",
              "    }\n",
              "  };\n",
              "\n",
              "  cancel.remove();\n",
              "\n",
              "  // Disable the input element since further picks are not allowed.\n",
              "  inputElement.disabled = true;\n",
              "\n",
              "  if (!files) {\n",
              "    return {\n",
              "      response: {\n",
              "        action: 'complete',\n",
              "      }\n",
              "    };\n",
              "  }\n",
              "\n",
              "  for (const file of files) {\n",
              "    const li = document.createElement('li');\n",
              "    li.append(span(file.name, {fontWeight: 'bold'}));\n",
              "    li.append(span(\n",
              "        `(${file.type || 'n/a'}) - ${file.size} bytes, ` +\n",
              "        `last modified: ${\n",
              "            file.lastModifiedDate ? file.lastModifiedDate.toLocaleDateString() :\n",
              "                                    'n/a'} - `));\n",
              "    const percent = span('0% done');\n",
              "    li.appendChild(percent);\n",
              "\n",
              "    outputElement.appendChild(li);\n",
              "\n",
              "    const fileDataPromise = new Promise((resolve) => {\n",
              "      const reader = new FileReader();\n",
              "      reader.onload = (e) => {\n",
              "        resolve(e.target.result);\n",
              "      };\n",
              "      reader.readAsArrayBuffer(file);\n",
              "    });\n",
              "    // Wait for the data to be ready.\n",
              "    let fileData = yield {\n",
              "      promise: fileDataPromise,\n",
              "      response: {\n",
              "        action: 'continue',\n",
              "      }\n",
              "    };\n",
              "\n",
              "    // Use a chunked sending to avoid message size limits. See b/62115660.\n",
              "    let position = 0;\n",
              "    do {\n",
              "      const length = Math.min(fileData.byteLength - position, MAX_PAYLOAD_SIZE);\n",
              "      const chunk = new Uint8Array(fileData, position, length);\n",
              "      position += length;\n",
              "\n",
              "      const base64 = btoa(String.fromCharCode.apply(null, chunk));\n",
              "      yield {\n",
              "        response: {\n",
              "          action: 'append',\n",
              "          file: file.name,\n",
              "          data: base64,\n",
              "        },\n",
              "      };\n",
              "\n",
              "      let percentDone = fileData.byteLength === 0 ?\n",
              "          100 :\n",
              "          Math.round((position / fileData.byteLength) * 100);\n",
              "      percent.textContent = `${percentDone}% done`;\n",
              "\n",
              "    } while (position < fileData.byteLength);\n",
              "  }\n",
              "\n",
              "  // All done.\n",
              "  yield {\n",
              "    response: {\n",
              "      action: 'complete',\n",
              "    }\n",
              "  };\n",
              "}\n",
              "\n",
              "scope.google = scope.google || {};\n",
              "scope.google.colab = scope.google.colab || {};\n",
              "scope.google.colab._files = {\n",
              "  _uploadFiles,\n",
              "  _uploadFilesContinue,\n",
              "};\n",
              "})(self);\n",
              "</script> "
            ]
          },
          "metadata": {}
        },
        {
          "output_type": "stream",
          "name": "stdout",
          "text": [
            "Saving tmdb_5000_movies.csv to tmdb_5000_movies.csv\n"
          ]
        }
      ]
    },
    {
      "cell_type": "code",
      "source": [
        "#merging both dataframes\n",
        "movies_df.genres\n",
        "credits_df.columns = ['id','title','cast','crew']\n",
        "movies_df = movies_df.merge(credits_df, on = 'id')\n",
        "movies_df.cast"
      ],
      "metadata": {
        "colab": {
          "base_uri": "https://localhost:8080/"
        },
        "id": "-RZNAD1oA_xj",
        "outputId": "683d2030-6c70-4144-bf2a-8483a8be8850"
      },
      "execution_count": null,
      "outputs": [
        {
          "output_type": "execute_result",
          "data": {
            "text/plain": [
              "0       [{\"cast_id\": 242, \"character\": \"Jake Sully\", \"...\n",
              "1       [{\"cast_id\": 4, \"character\": \"Captain Jack Spa...\n",
              "2       [{\"cast_id\": 1, \"character\": \"James Bond\", \"cr...\n",
              "3       [{\"cast_id\": 2, \"character\": \"Bruce Wayne / Ba...\n",
              "4       [{\"cast_id\": 5, \"character\": \"John Carter\", \"c...\n",
              "                              ...                        \n",
              "4798    [{\"cast_id\": 1, \"character\": \"El Mariachi\", \"c...\n",
              "4799    [{\"cast_id\": 1, \"character\": \"Buzzy\", \"credit_...\n",
              "4800    [{\"cast_id\": 8, \"character\": \"Oliver O\\u2019To...\n",
              "4801    [{\"cast_id\": 3, \"character\": \"Sam\", \"credit_id...\n",
              "4802    [{\"cast_id\": 3, \"character\": \"Herself\", \"credi...\n",
              "Name: cast, Length: 4803, dtype: object"
            ]
          },
          "metadata": {},
          "execution_count": 4
        }
      ]
    },
    {
      "cell_type": "code",
      "source": [
        "# the features that we will consider are cast , crew , keywords and genres\n",
        "from ast import literal_eval\n",
        "features = ['cast','crew','keywords','genres']\n",
        "for feature in features:\n",
        "  movies_df[feature] = movies_df[feature].apply(literal_eval)\n",
        "movies_df.cast"
      ],
      "metadata": {
        "id": "TLFuC3-eCfXe",
        "colab": {
          "base_uri": "https://localhost:8080/"
        },
        "outputId": "3ca1d2f7-967a-4e64-d5ea-4411666ebd11"
      },
      "execution_count": null,
      "outputs": [
        {
          "output_type": "execute_result",
          "data": {
            "text/plain": [
              "0       [{'cast_id': 242, 'character': 'Jake Sully', '...\n",
              "1       [{'cast_id': 4, 'character': 'Captain Jack Spa...\n",
              "2       [{'cast_id': 1, 'character': 'James Bond', 'cr...\n",
              "3       [{'cast_id': 2, 'character': 'Bruce Wayne / Ba...\n",
              "4       [{'cast_id': 5, 'character': 'John Carter', 'c...\n",
              "                              ...                        \n",
              "4798    [{'cast_id': 1, 'character': 'El Mariachi', 'c...\n",
              "4799    [{'cast_id': 1, 'character': 'Buzzy', 'credit_...\n",
              "4800    [{'cast_id': 8, 'character': 'Oliver O’Toole',...\n",
              "4801    [{'cast_id': 3, 'character': 'Sam', 'credit_id...\n",
              "4802    [{'cast_id': 3, 'character': 'Herself', 'credi...\n",
              "Name: cast, Length: 4803, dtype: object"
            ]
          },
          "metadata": {},
          "execution_count": 5
        }
      ]
    },
    {
      "cell_type": "code",
      "source": [
        "def get_director(x):\n",
        "    for i in x:\n",
        "        if i[\"job\"] == \"Director\":\n",
        "            return i[\"name\"]\n",
        "    return np.nan\n",
        "\n",
        "\n",
        "def get_list(x):\n",
        "    if isinstance(x, list):\n",
        "         #print(type(i['name']) for i in x)\n",
        "         names = [i['name'] for i in x]\n",
        "         #print(names)\n",
        "         if len(names) > 3:\n",
        "             names = names[:3]\n",
        "         return names\n",
        "    return []\n"
      ],
      "metadata": {
        "id": "WaGxQ4hEjJ-c"
      },
      "execution_count": null,
      "outputs": []
    },
    {
      "cell_type": "code",
      "source": [
        "movies_df[\"director\"] = movies_df[\"crew\"].apply(get_director)\n",
        "\n",
        "features = [\"cast\", \"keywords\",\"genres\"]\n",
        "for feature in features:\n",
        "    movies_df[feature] = movies_df[feature].apply(get_list)\n",
        "\n",
        "######################################################################\n",
        "# ######################## TO DO ########################################\n",
        "# Insure that the script can be run without having to check if parts have been run before\n",
        "# => the script should not be replacing original columns and we need to create new dummy columns to hold older data"
      ],
      "metadata": {
        "id": "mFI2Yd-1uZ54"
      },
      "execution_count": null,
      "outputs": []
    },
    {
      "cell_type": "code",
      "source": [
        "movies_df[['title_x', 'cast', 'director', 'keywords', 'genres']].head()"
      ],
      "metadata": {
        "colab": {
          "base_uri": "https://localhost:8080/",
          "height": 424
        },
        "id": "Af_TkBPDueiI",
        "outputId": "1caa5421-69c3-4266-d3d1-439d8a88137f"
      },
      "execution_count": null,
      "outputs": [
        {
          "output_type": "execute_result",
          "data": {
            "text/plain": [
              "                                    title_x  \\\n",
              "0                                    Avatar   \n",
              "1  Pirates of the Caribbean: At World's End   \n",
              "2                                   Spectre   \n",
              "3                     The Dark Knight Rises   \n",
              "4                               John Carter   \n",
              "\n",
              "                                               cast           director  \\\n",
              "0  [Sam Worthington, Zoe Saldana, Sigourney Weaver]      James Cameron   \n",
              "1     [Johnny Depp, Orlando Bloom, Keira Knightley]     Gore Verbinski   \n",
              "2      [Daniel Craig, Christoph Waltz, Léa Seydoux]         Sam Mendes   \n",
              "3      [Christian Bale, Michael Caine, Gary Oldman]  Christopher Nolan   \n",
              "4    [Taylor Kitsch, Lynn Collins, Samantha Morton]     Andrew Stanton   \n",
              "\n",
              "                                keywords                                genres  \n",
              "0     [culture clash, future, space war]          [Action, Adventure, Fantasy]  \n",
              "1     [ocean, drug abuse, exotic island]          [Adventure, Fantasy, Action]  \n",
              "2    [spy, based on novel, secret agent]            [Action, Adventure, Crime]  \n",
              "3  [dc comics, crime fighter, terrorist]                [Action, Crime, Drama]  \n",
              "4      [based on novel, mars, medallion]  [Action, Adventure, Science Fiction]  "
            ],
            "text/html": [
              "\n",
              "  <div id=\"df-46bba504-47ad-4bc7-804d-9de5409fbb86\">\n",
              "    <div class=\"colab-df-container\">\n",
              "      <div>\n",
              "<style scoped>\n",
              "    .dataframe tbody tr th:only-of-type {\n",
              "        vertical-align: middle;\n",
              "    }\n",
              "\n",
              "    .dataframe tbody tr th {\n",
              "        vertical-align: top;\n",
              "    }\n",
              "\n",
              "    .dataframe thead th {\n",
              "        text-align: right;\n",
              "    }\n",
              "</style>\n",
              "<table border=\"1\" class=\"dataframe\">\n",
              "  <thead>\n",
              "    <tr style=\"text-align: right;\">\n",
              "      <th></th>\n",
              "      <th>title_x</th>\n",
              "      <th>cast</th>\n",
              "      <th>director</th>\n",
              "      <th>keywords</th>\n",
              "      <th>genres</th>\n",
              "    </tr>\n",
              "  </thead>\n",
              "  <tbody>\n",
              "    <tr>\n",
              "      <th>0</th>\n",
              "      <td>Avatar</td>\n",
              "      <td>[Sam Worthington, Zoe Saldana, Sigourney Weaver]</td>\n",
              "      <td>James Cameron</td>\n",
              "      <td>[culture clash, future, space war]</td>\n",
              "      <td>[Action, Adventure, Fantasy]</td>\n",
              "    </tr>\n",
              "    <tr>\n",
              "      <th>1</th>\n",
              "      <td>Pirates of the Caribbean: At World's End</td>\n",
              "      <td>[Johnny Depp, Orlando Bloom, Keira Knightley]</td>\n",
              "      <td>Gore Verbinski</td>\n",
              "      <td>[ocean, drug abuse, exotic island]</td>\n",
              "      <td>[Adventure, Fantasy, Action]</td>\n",
              "    </tr>\n",
              "    <tr>\n",
              "      <th>2</th>\n",
              "      <td>Spectre</td>\n",
              "      <td>[Daniel Craig, Christoph Waltz, Léa Seydoux]</td>\n",
              "      <td>Sam Mendes</td>\n",
              "      <td>[spy, based on novel, secret agent]</td>\n",
              "      <td>[Action, Adventure, Crime]</td>\n",
              "    </tr>\n",
              "    <tr>\n",
              "      <th>3</th>\n",
              "      <td>The Dark Knight Rises</td>\n",
              "      <td>[Christian Bale, Michael Caine, Gary Oldman]</td>\n",
              "      <td>Christopher Nolan</td>\n",
              "      <td>[dc comics, crime fighter, terrorist]</td>\n",
              "      <td>[Action, Crime, Drama]</td>\n",
              "    </tr>\n",
              "    <tr>\n",
              "      <th>4</th>\n",
              "      <td>John Carter</td>\n",
              "      <td>[Taylor Kitsch, Lynn Collins, Samantha Morton]</td>\n",
              "      <td>Andrew Stanton</td>\n",
              "      <td>[based on novel, mars, medallion]</td>\n",
              "      <td>[Action, Adventure, Science Fiction]</td>\n",
              "    </tr>\n",
              "  </tbody>\n",
              "</table>\n",
              "</div>\n",
              "      <button class=\"colab-df-convert\" onclick=\"convertToInteractive('df-46bba504-47ad-4bc7-804d-9de5409fbb86')\"\n",
              "              title=\"Convert this dataframe to an interactive table.\"\n",
              "              style=\"display:none;\">\n",
              "        \n",
              "  <svg xmlns=\"http://www.w3.org/2000/svg\" height=\"24px\"viewBox=\"0 0 24 24\"\n",
              "       width=\"24px\">\n",
              "    <path d=\"M0 0h24v24H0V0z\" fill=\"none\"/>\n",
              "    <path d=\"M18.56 5.44l.94 2.06.94-2.06 2.06-.94-2.06-.94-.94-2.06-.94 2.06-2.06.94zm-11 1L8.5 8.5l.94-2.06 2.06-.94-2.06-.94L8.5 2.5l-.94 2.06-2.06.94zm10 10l.94 2.06.94-2.06 2.06-.94-2.06-.94-.94-2.06-.94 2.06-2.06.94z\"/><path d=\"M17.41 7.96l-1.37-1.37c-.4-.4-.92-.59-1.43-.59-.52 0-1.04.2-1.43.59L10.3 9.45l-7.72 7.72c-.78.78-.78 2.05 0 2.83L4 21.41c.39.39.9.59 1.41.59.51 0 1.02-.2 1.41-.59l7.78-7.78 2.81-2.81c.8-.78.8-2.07 0-2.86zM5.41 20L4 18.59l7.72-7.72 1.47 1.35L5.41 20z\"/>\n",
              "  </svg>\n",
              "      </button>\n",
              "      \n",
              "  <style>\n",
              "    .colab-df-container {\n",
              "      display:flex;\n",
              "      flex-wrap:wrap;\n",
              "      gap: 12px;\n",
              "    }\n",
              "\n",
              "    .colab-df-convert {\n",
              "      background-color: #E8F0FE;\n",
              "      border: none;\n",
              "      border-radius: 50%;\n",
              "      cursor: pointer;\n",
              "      display: none;\n",
              "      fill: #1967D2;\n",
              "      height: 32px;\n",
              "      padding: 0 0 0 0;\n",
              "      width: 32px;\n",
              "    }\n",
              "\n",
              "    .colab-df-convert:hover {\n",
              "      background-color: #E2EBFA;\n",
              "      box-shadow: 0px 1px 2px rgba(60, 64, 67, 0.3), 0px 1px 3px 1px rgba(60, 64, 67, 0.15);\n",
              "      fill: #174EA6;\n",
              "    }\n",
              "\n",
              "    [theme=dark] .colab-df-convert {\n",
              "      background-color: #3B4455;\n",
              "      fill: #D2E3FC;\n",
              "    }\n",
              "\n",
              "    [theme=dark] .colab-df-convert:hover {\n",
              "      background-color: #434B5C;\n",
              "      box-shadow: 0px 1px 3px 1px rgba(0, 0, 0, 0.15);\n",
              "      filter: drop-shadow(0px 1px 2px rgba(0, 0, 0, 0.3));\n",
              "      fill: #FFFFFF;\n",
              "    }\n",
              "  </style>\n",
              "\n",
              "      <script>\n",
              "        const buttonEl =\n",
              "          document.querySelector('#df-46bba504-47ad-4bc7-804d-9de5409fbb86 button.colab-df-convert');\n",
              "        buttonEl.style.display =\n",
              "          google.colab.kernel.accessAllowed ? 'block' : 'none';\n",
              "\n",
              "        async function convertToInteractive(key) {\n",
              "          const element = document.querySelector('#df-46bba504-47ad-4bc7-804d-9de5409fbb86');\n",
              "          const dataTable =\n",
              "            await google.colab.kernel.invokeFunction('convertToInteractive',\n",
              "                                                     [key], {});\n",
              "          if (!dataTable) return;\n",
              "\n",
              "          const docLinkHtml = 'Like what you see? Visit the ' +\n",
              "            '<a target=\"_blank\" href=https://colab.research.google.com/notebooks/data_table.ipynb>data table notebook</a>'\n",
              "            + ' to learn more about interactive tables.';\n",
              "          element.innerHTML = '';\n",
              "          dataTable['output_type'] = 'display_data';\n",
              "          await google.colab.output.renderOutput(dataTable, element);\n",
              "          const docLink = document.createElement('div');\n",
              "          docLink.innerHTML = docLinkHtml;\n",
              "          element.appendChild(docLink);\n",
              "        }\n",
              "      </script>\n",
              "    </div>\n",
              "  </div>\n",
              "  "
            ]
          },
          "metadata": {},
          "execution_count": 18
        }
      ]
    },
    {
      "cell_type": "code",
      "source": [
        "# text formatting and cleaning\n",
        "#cleans strings and list -> lower case letters and reducing blank space\n",
        "def clean_row(x):\n",
        "  if(isinstance(x,list)):\n",
        "    return [str.lower(i.replace(\" \",'')) for i in x]\n",
        "  elif(isinstance(x,str)):\n",
        "    return str.lower(x.replace(\" \",''))\n",
        "  else:\n",
        "    return \"\"\n"
      ],
      "metadata": {
        "id": "L88yqgU_wltx"
      },
      "execution_count": null,
      "outputs": []
    },
    {
      "cell_type": "code",
      "source": [
        "features = ['cast', 'keywords', 'director', 'genres']\n",
        "for feature in features:\n",
        "    movies_df[feature] = movies_df[feature].apply(clean_row)"
      ],
      "metadata": {
        "id": "KRWIevWCk2vS"
      },
      "execution_count": null,
      "outputs": []
    },
    {
      "cell_type": "code",
      "source": [
        "#merging text features into a single feature\n",
        "def merge_features(x):\n",
        "  return ' '.join(x['cast'])+' '.join(x['keywords'])+' '.join(x['director'])+' '.join(x['genres'])"
      ],
      "metadata": {
        "id": "6l_ltuq3k57V"
      },
      "execution_count": null,
      "outputs": []
    },
    {
      "cell_type": "code",
      "source": [
        "movies_df['merged_feature'] = movies_df.apply(merge_features,axis=1)\n",
        "movies_df.merged_feature"
      ],
      "metadata": {
        "colab": {
          "base_uri": "https://localhost:8080/"
        },
        "id": "a5z11Vb0lnxz",
        "outputId": "6b3d2643-8d9b-4edd-caad-9904b0a618f8"
      },
      "execution_count": null,
      "outputs": [
        {
          "output_type": "execute_result",
          "data": {
            "text/plain": [
              "0       samworthington zoesaldana sigourneyweavercultu...\n",
              "1       johnnydepp orlandobloom keiraknightleyocean dr...\n",
              "2       danielcraig christophwaltz léaseydouxspy based...\n",
              "3       christianbale michaelcaine garyoldmandccomics ...\n",
              "4       taylorkitsch lynncollins samanthamortonbasedon...\n",
              "                              ...                        \n",
              "4798    carlosgallardo jaimedehoyos petermarquardtunit...\n",
              "4799    edwardburns kerrybishé marshadietleine d w a r...\n",
              "4800    ericmabius kristinbooth crystallowedate loveat...\n",
              "4801    danielhenney elizacoupe billpaxtond a n i e l ...\n",
              "4802    drewbarrymore brianherzlinger coreyfeldmanobse...\n",
              "Name: merged_feature, Length: 4803, dtype: object"
            ]
          },
          "metadata": {},
          "execution_count": 30
        }
      ]
    },
    {
      "cell_type": "code",
      "source": [
        "#transforming merged feature into a vector and calculating cosine similarity\n",
        "#resetting indices\n",
        "from sklearn.feature_extraction.text import CountVectorizer\n",
        "from sklearn.metrics.pairwise import cosine_similarity\n",
        "\n",
        "count_vectorizer = CountVectorizer(stop_words=\"english\")\n",
        "count_matrix = count_vectorizer.fit_transform(movies_df[\"merged_feature\"])\n",
        "\n",
        "print(count_matrix.shape)\n",
        "\n",
        "cosine_sim2 = cosine_similarity(count_matrix, count_matrix)\n",
        "print(cosine_sim2.shape)\n",
        "\n",
        "movies_df = movies_df.reset_index()\n",
        "indices = pd.Series(movies_df.index, index=movies_df['title_x'])\n"
      ],
      "metadata": {
        "colab": {
          "base_uri": "https://localhost:8080/"
        },
        "id": "ThmYKa0UmEeI",
        "outputId": "31423f34-c4ca-4ad8-e3de-9b705a1d8d9a"
      },
      "execution_count": null,
      "outputs": [
        {
          "output_type": "stream",
          "name": "stdout",
          "text": [
            "(4803, 14559)\n",
            "(4803, 4803)\n"
          ]
        }
      ]
    },
    {
      "cell_type": "code",
      "source": [
        "#reverse mapping of indices -> helps look up title on the basis of the ranking\n",
        "indices = pd.Series(movies_df.index, index=movies_df[\"title_x\"]).drop_duplicates()\n",
        "#print(indices.head())"
      ],
      "metadata": {
        "colab": {
          "base_uri": "https://localhost:8080/"
        },
        "id": "X13QbdJqoqRk",
        "outputId": "a033eafd-215c-4de6-a46e-febc30c54ab0"
      },
      "execution_count": null,
      "outputs": [
        {
          "output_type": "stream",
          "name": "stdout",
          "text": [
            "title_x\n",
            "Avatar                                      0\n",
            "Pirates of the Caribbean: At World's End    1\n",
            "Spectre                                     2\n",
            "The Dark Knight Rises                       3\n",
            "John Carter                                 4\n",
            "dtype: int64\n"
          ]
        }
      ]
    },
    {
      "cell_type": "code",
      "source": [
        "def get_recommendations(title, cosine_sim=cosine_sim2):\n",
        "    idx = indices[title]\n",
        "    similarity_scores = list(enumerate(cosine_sim[idx]))\n",
        "    similarity_scores= sorted(similarity_scores, key=lambda x: x[1], reverse=True)\n",
        "    similarity_scores= similarity_scores[1:11]\n",
        "    # (a, b) where a is id of movie, b is similarity_scores\n",
        "\n",
        "    movies_indices = [ind[0] for ind in similarity_scores]\n",
        "    movies = movies_df[\"title_x\"].iloc[movies_indices]\n",
        "    return movies"
      ],
      "metadata": {
        "id": "RqmOLDYEottn"
      },
      "execution_count": null,
      "outputs": []
    },
    {
      "cell_type": "code",
      "source": [
        "print(\"################ Content Based System #############\")\n",
        "print(\"Recommendations for The Dark Knight Rises\")\n",
        "print(get_recommendations(\"The Dark Knight Rises\", cosine_sim2))\n",
        "print()\n",
        "print(\"Recommendations for Avengers\")\n",
        "print(get_recommendations(\"The Avengers\", cosine_sim2))\n"
      ],
      "metadata": {
        "colab": {
          "base_uri": "https://localhost:8080/"
        },
        "id": "HVvoS3vosqk6",
        "outputId": "2fa9bb42-46e2-4c01-ac07-741b3dc50310"
      },
      "execution_count": null,
      "outputs": [
        {
          "output_type": "stream",
          "name": "stdout",
          "text": [
            "################ Content Based System #############\n",
            "Recommendations for The Dark Knight Rises\n",
            "119                             Batman Begins\n",
            "4638                 Amidst the Devil's Wings\n",
            "65                            The Dark Knight\n",
            "280                            Public Enemies\n",
            "405     The Fast and the Furious: Tokyo Drift\n",
            "1795                                Silverado\n",
            "2060                       Out of the Furnace\n",
            "2218                           Death Sentence\n",
            "2609                                Dark Blue\n",
            "3257                          American Psycho\n",
            "Name: title_x, dtype: object\n",
            "\n",
            "Recommendations for Avengers\n",
            "193                                           After Earth\n",
            "26                             Captain America: Civil War\n",
            "238                          Teenage Mutant Ninja Turtles\n",
            "1294                                             Serenity\n",
            "1303                               Star Trek: Generations\n",
            "1827    Teenage Mutant Ninja Turtles II: The Secret of...\n",
            "2327                                             Predator\n",
            "2492                                                Steel\n",
            "2317                  Star Trek III: The Search for Spock\n",
            "2352                                       Catch That Kid\n",
            "Name: title_x, dtype: object\n"
          ]
        }
      ]
    },
    {
      "cell_type": "code",
      "source": [],
      "metadata": {
        "id": "QLlmnLGqstMd"
      },
      "execution_count": null,
      "outputs": []
    }
  ]
}